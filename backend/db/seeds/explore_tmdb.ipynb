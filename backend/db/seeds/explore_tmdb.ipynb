{
 "cells": [
  {
   "cell_type": "code",
   "execution_count": null,
   "id": "fc24a067",
   "metadata": {},
   "outputs": [
    {
     "name": "stderr",
     "output_type": "stream",
     "text": [
      "/Library/Frameworks/Python.framework/Versions/3.12/lib/python3.12/site-packages/tqdm/auto.py:21: TqdmWarning: IProgress not found. Please update jupyter and ipywidgets. See https://ipywidgets.readthedocs.io/en/stable/user_install.html\n",
      "  from .autonotebook import tqdm as notebook_tqdm\n"
     ]
    },
    {
     "name": "stdout",
     "output_type": "stream",
     "text": [
      "Path to dataset files: /Users/georgiosklonis/dev/github/cineops/backend/db/seeds/raw/datasets/tmdb/tmdb-movie-metadata/versions/2\n"
     ]
    }
   ],
   "source": [
    "import os\n",
    "import kagglehub\n",
    "import pandas as pd\n",
    "from pathlib import Path\n",
    "\n",
    "\n",
    "os.environ[\"KAGGLEHUB_CACHE\"] = f\"{Path.cwd()}/raw\"\n",
    "\n",
    "path = kagglehub.dataset_download(\"tmdb/tmdb-movie-metadata\")\n",
    "print(\"Path to dataset files:\", path)\n"
   ]
  },
  {
   "cell_type": "code",
   "execution_count": 2,
   "id": "39d56aba",
   "metadata": {},
   "outputs": [
    {
     "data": {
      "text/html": [
       "<div>\n",
       "<style scoped>\n",
       "    .dataframe tbody tr th:only-of-type {\n",
       "        vertical-align: middle;\n",
       "    }\n",
       "\n",
       "    .dataframe tbody tr th {\n",
       "        vertical-align: top;\n",
       "    }\n",
       "\n",
       "    .dataframe thead th {\n",
       "        text-align: right;\n",
       "    }\n",
       "</style>\n",
       "<table border=\"1\" class=\"dataframe\">\n",
       "  <thead>\n",
       "    <tr style=\"text-align: right;\">\n",
       "      <th></th>\n",
       "      <th>budget</th>\n",
       "      <th>genres</th>\n",
       "      <th>homepage</th>\n",
       "      <th>id</th>\n",
       "      <th>keywords</th>\n",
       "      <th>original_language</th>\n",
       "      <th>original_title</th>\n",
       "      <th>overview</th>\n",
       "      <th>popularity</th>\n",
       "      <th>production_companies</th>\n",
       "      <th>production_countries</th>\n",
       "      <th>release_date</th>\n",
       "      <th>revenue</th>\n",
       "      <th>runtime</th>\n",
       "      <th>spoken_languages</th>\n",
       "      <th>status</th>\n",
       "      <th>tagline</th>\n",
       "      <th>title</th>\n",
       "      <th>vote_average</th>\n",
       "      <th>vote_count</th>\n",
       "    </tr>\n",
       "  </thead>\n",
       "  <tbody>\n",
       "    <tr>\n",
       "      <th>0</th>\n",
       "      <td>237000000</td>\n",
       "      <td>[{\"id\": 28, \"name\": \"Action\"}, {\"id\": 12, \"nam...</td>\n",
       "      <td>http://www.avatarmovie.com/</td>\n",
       "      <td>19995</td>\n",
       "      <td>[{\"id\": 1463, \"name\": \"culture clash\"}, {\"id\":...</td>\n",
       "      <td>en</td>\n",
       "      <td>Avatar</td>\n",
       "      <td>In the 22nd century, a paraplegic Marine is di...</td>\n",
       "      <td>150.437577</td>\n",
       "      <td>[{\"name\": \"Ingenious Film Partners\", \"id\": 289...</td>\n",
       "      <td>[{\"iso_3166_1\": \"US\", \"name\": \"United States o...</td>\n",
       "      <td>2009-12-10</td>\n",
       "      <td>2787965087</td>\n",
       "      <td>162.0</td>\n",
       "      <td>[{\"iso_639_1\": \"en\", \"name\": \"English\"}, {\"iso...</td>\n",
       "      <td>Released</td>\n",
       "      <td>Enter the World of Pandora.</td>\n",
       "      <td>Avatar</td>\n",
       "      <td>7.2</td>\n",
       "      <td>11800</td>\n",
       "    </tr>\n",
       "  </tbody>\n",
       "</table>\n",
       "</div>"
      ],
      "text/plain": [
       "      budget                                             genres  \\\n",
       "0  237000000  [{\"id\": 28, \"name\": \"Action\"}, {\"id\": 12, \"nam...   \n",
       "\n",
       "                      homepage     id  \\\n",
       "0  http://www.avatarmovie.com/  19995   \n",
       "\n",
       "                                            keywords original_language  \\\n",
       "0  [{\"id\": 1463, \"name\": \"culture clash\"}, {\"id\":...                en   \n",
       "\n",
       "  original_title                                           overview  \\\n",
       "0         Avatar  In the 22nd century, a paraplegic Marine is di...   \n",
       "\n",
       "   popularity                               production_companies  \\\n",
       "0  150.437577  [{\"name\": \"Ingenious Film Partners\", \"id\": 289...   \n",
       "\n",
       "                                production_countries release_date     revenue  \\\n",
       "0  [{\"iso_3166_1\": \"US\", \"name\": \"United States o...   2009-12-10  2787965087   \n",
       "\n",
       "   runtime                                   spoken_languages    status  \\\n",
       "0    162.0  [{\"iso_639_1\": \"en\", \"name\": \"English\"}, {\"iso...  Released   \n",
       "\n",
       "                       tagline   title  vote_average  vote_count  \n",
       "0  Enter the World of Pandora.  Avatar           7.2       11800  "
      ]
     },
     "execution_count": 2,
     "metadata": {},
     "output_type": "execute_result"
    }
   ],
   "source": [
    "movies = pd.read_csv(f\"{path}/tmdb_5000_movies.csv\")\n",
    "movies.head(1)"
   ]
  },
  {
   "cell_type": "code",
   "execution_count": 3,
   "id": "be2a3ee7",
   "metadata": {},
   "outputs": [
    {
     "name": "stdout",
     "output_type": "stream",
     "text": [
      "<class 'pandas.core.frame.DataFrame'>\n",
      "RangeIndex: 4803 entries, 0 to 4802\n",
      "Data columns (total 20 columns):\n",
      " #   Column                Non-Null Count  Dtype  \n",
      "---  ------                --------------  -----  \n",
      " 0   budget                4803 non-null   int64  \n",
      " 1   genres                4803 non-null   object \n",
      " 2   homepage              1712 non-null   object \n",
      " 3   id                    4803 non-null   int64  \n",
      " 4   keywords              4803 non-null   object \n",
      " 5   original_language     4803 non-null   object \n",
      " 6   original_title        4803 non-null   object \n",
      " 7   overview              4800 non-null   object \n",
      " 8   popularity            4803 non-null   float64\n",
      " 9   production_companies  4803 non-null   object \n",
      " 10  production_countries  4803 non-null   object \n",
      " 11  release_date          4802 non-null   object \n",
      " 12  revenue               4803 non-null   int64  \n",
      " 13  runtime               4801 non-null   float64\n",
      " 14  spoken_languages      4803 non-null   object \n",
      " 15  status                4803 non-null   object \n",
      " 16  tagline               3959 non-null   object \n",
      " 17  title                 4803 non-null   object \n",
      " 18  vote_average          4803 non-null   float64\n",
      " 19  vote_count            4803 non-null   int64  \n",
      "dtypes: float64(3), int64(4), object(13)\n",
      "memory usage: 750.6+ KB\n"
     ]
    }
   ],
   "source": [
    "movies.info()"
   ]
  },
  {
   "cell_type": "code",
   "execution_count": 7,
   "id": "fd4100af",
   "metadata": {},
   "outputs": [],
   "source": [
    "import requests\n",
    "from dotenv import load_dotenv, find_dotenv\n",
    "\n",
    "def fetch_poster_url(TMDB_V3_API_KEY: str, POSTER_BASE_URL: str, movie_id: int) -> str:\n",
    "    if not TMDB_V3_API_KEY:\n",
    "        raise ValueError(\"TMDB_V3_API_KEY not found\")\n",
    "    \n",
    "    resp = requests.get(\n",
    "    f\"https://api.themoviedb.org/3/movie/{movie_id}\",\n",
    "    params={\"api_key\": TMDB_V3_API_KEY, \"language\": \"en-US\"},\n",
    "    timeout=15\n",
    "    )\n",
    "\n",
    "    data = resp.json()\n",
    "    poster_path = data.get(\"poster_path\")\n",
    "\n",
    "    if not poster_path or len(poster_path) < 7 or poster_path is None:\n",
    "        return \"none\"\n",
    "    return f\"{POSTER_BASE_URL}{poster_path}\"\n"
   ]
  },
  {
   "cell_type": "code",
   "execution_count": null,
   "id": "5cc1b202",
   "metadata": {},
   "outputs": [
    {
     "name": "stderr",
     "output_type": "stream",
     "text": [
      "Fetching posters: 100%|██████████| 4803/4803 [11:33<00:00,  6.93it/s]\n"
     ]
    }
   ],
   "source": [
    "from tqdm.auto import tqdm\n",
    "\n",
    "load_dotenv(find_dotenv())\n",
    "\n",
    "TMDB_V3_API_KEY = os.getenv(\"TMDB_V3_API_KEY\")\n",
    "POSTER_BASE_URL = \"https://image.tmdb.org/t/p/w500\"\n",
    "\n",
    "if TMDB_V3_API_KEY is None:\n",
    "    raise ValueError(\"TMDB_V3_API_KEY not found\")\n",
    "\n",
    "poster_urls = []\n",
    "\n",
    "for movie_id in tqdm(movies[\"id\"], total=len(movies), desc=\"Fetching posters\"):\n",
    "    poster_urls.append(\n",
    "        fetch_poster_url(\n",
    "            TMDB_V3_API_KEY=TMDB_V3_API_KEY,\n",
    "            POSTER_BASE_URL=POSTER_BASE_URL,\n",
    "            movie_id=movie_id,\n",
    "        )\n",
    "    )\n",
    "\n",
    "movies[\"poster_url\"] = poster_urls"
   ]
  },
  {
   "cell_type": "code",
   "execution_count": 16,
   "id": "c747b7ae",
   "metadata": {},
   "outputs": [
    {
     "name": "stdout",
     "output_type": "stream",
     "text": [
      "<class 'pandas.core.frame.DataFrame'>\n",
      "RangeIndex: 4803 entries, 0 to 4802\n",
      "Data columns (total 21 columns):\n",
      " #   Column                Non-Null Count  Dtype  \n",
      "---  ------                --------------  -----  \n",
      " 0   budget                4803 non-null   int64  \n",
      " 1   genres                4803 non-null   object \n",
      " 2   homepage              1712 non-null   object \n",
      " 3   id                    4803 non-null   int64  \n",
      " 4   keywords              4803 non-null   object \n",
      " 5   original_language     4803 non-null   object \n",
      " 6   original_title        4803 non-null   object \n",
      " 7   overview              4800 non-null   object \n",
      " 8   popularity            4803 non-null   float64\n",
      " 9   production_companies  4803 non-null   object \n",
      " 10  production_countries  4803 non-null   object \n",
      " 11  release_date          4802 non-null   object \n",
      " 12  revenue               4803 non-null   int64  \n",
      " 13  runtime               4801 non-null   float64\n",
      " 14  spoken_languages      4803 non-null   object \n",
      " 15  status                4803 non-null   object \n",
      " 16  tagline               3959 non-null   object \n",
      " 17  title                 4803 non-null   object \n",
      " 18  vote_average          4803 non-null   float64\n",
      " 19  vote_count            4803 non-null   int64  \n",
      " 20  poster_url            4803 non-null   object \n",
      "dtypes: float64(3), int64(4), object(14)\n",
      "memory usage: 788.1+ KB\n"
     ]
    }
   ],
   "source": [
    "movies.info()"
   ]
  },
  {
   "cell_type": "code",
   "execution_count": 36,
   "id": "036a4426",
   "metadata": {},
   "outputs": [
    {
     "data": {
      "text/plain": [
       "array(['Released', 'Post Production', 'Rumored'], dtype=object)"
      ]
     },
     "execution_count": 36,
     "metadata": {},
     "output_type": "execute_result"
    }
   ],
   "source": [
    "movies[\"status\"].unique()"
   ]
  },
  {
   "cell_type": "code",
   "execution_count": 38,
   "id": "6005b385",
   "metadata": {},
   "outputs": [
    {
     "data": {
      "text/plain": [
       "array(['Released'], dtype=object)"
      ]
     },
     "execution_count": 38,
     "metadata": {},
     "output_type": "execute_result"
    }
   ],
   "source": [
    "movies_processed = movies[movies[\"status\"] == \"Released\"]\n",
    "movies_processed[\"status\"].unique()"
   ]
  },
  {
   "cell_type": "code",
   "execution_count": 43,
   "id": "fe251d72",
   "metadata": {},
   "outputs": [
    {
     "name": "stdout",
     "output_type": "stream",
     "text": [
      "<class 'pandas.core.frame.DataFrame'>\n",
      "RangeIndex: 4803 entries, 0 to 4802\n",
      "Data columns (total 7 columns):\n",
      " #   Column        Non-Null Count  Dtype  \n",
      "---  ------        --------------  -----  \n",
      " 0   genres        4803 non-null   object \n",
      " 1   id            4803 non-null   int64  \n",
      " 2   overview      4800 non-null   object \n",
      " 3   release_date  4802 non-null   object \n",
      " 4   runtime       4801 non-null   float64\n",
      " 5   title         4803 non-null   object \n",
      " 6   poster_url    4803 non-null   object \n",
      "dtypes: float64(1), int64(1), object(5)\n",
      "memory usage: 262.8+ KB\n"
     ]
    }
   ],
   "source": [
    "columns_to_drop = [\"revenue\", \n",
    "                   \"vote_count\", \n",
    "                   \"vote_average\", \n",
    "                   \"popularity\", \n",
    "                   \"budget\", \n",
    "                   \"homepage\", \n",
    "                   \"production_countries\", \n",
    "                   \"production_companies\",\n",
    "                   \"tagline\",\n",
    "                   \"spoken_languages\",\n",
    "                   \"original_title\",\n",
    "                   \"status\",\n",
    "                   \"original_language\",\n",
    "                   \"keywords\"\n",
    "                   ]\n",
    "movies_processed = movies.drop(columns=columns_to_drop)\n",
    "movies_processed.info()"
   ]
  },
  {
   "cell_type": "code",
   "execution_count": 45,
   "id": "bbee6439",
   "metadata": {},
   "outputs": [],
   "source": [
    "movies_processed.rename(columns={\"id\": \"tmdb_id\"}, inplace=True)"
   ]
  },
  {
   "cell_type": "code",
   "execution_count": null,
   "id": "31b70650",
   "metadata": {},
   "outputs": [
    {
     "data": {
      "text/html": [
       "<div>\n",
       "<style scoped>\n",
       "    .dataframe tbody tr th:only-of-type {\n",
       "        vertical-align: middle;\n",
       "    }\n",
       "\n",
       "    .dataframe tbody tr th {\n",
       "        vertical-align: top;\n",
       "    }\n",
       "\n",
       "    .dataframe thead th {\n",
       "        text-align: right;\n",
       "    }\n",
       "</style>\n",
       "<table border=\"1\" class=\"dataframe\">\n",
       "  <thead>\n",
       "    <tr style=\"text-align: right;\">\n",
       "      <th></th>\n",
       "      <th>tmdb_id</th>\n",
       "      <th>overview</th>\n",
       "      <th>release_date</th>\n",
       "      <th>runtime</th>\n",
       "      <th>title</th>\n",
       "      <th>poster_url</th>\n",
       "      <th>genre_names</th>\n",
       "    </tr>\n",
       "  </thead>\n",
       "  <tbody>\n",
       "    <tr>\n",
       "      <th>0</th>\n",
       "      <td>19995</td>\n",
       "      <td>In the 22nd century, a paraplegic Marine is di...</td>\n",
       "      <td>2009-12-10</td>\n",
       "      <td>162.0</td>\n",
       "      <td>Avatar</td>\n",
       "      <td>https://image.tmdb.org/t/p/w500/gKY6q7SjCkAU6F...</td>\n",
       "      <td>[Action, Adventure, Fantasy, Science Fiction]</td>\n",
       "    </tr>\n",
       "  </tbody>\n",
       "</table>\n",
       "</div>"
      ],
      "text/plain": [
       "   tmdb_id                                           overview release_date  \\\n",
       "0    19995  In the 22nd century, a paraplegic Marine is di...   2009-12-10   \n",
       "\n",
       "   runtime   title                                         poster_url  \\\n",
       "0    162.0  Avatar  https://image.tmdb.org/t/p/w500/gKY6q7SjCkAU6F...   \n",
       "\n",
       "                                     genre_names  \n",
       "0  [Action, Adventure, Fantasy, Science Fiction]  "
      ]
     },
     "execution_count": 52,
     "metadata": {},
     "output_type": "execute_result"
    }
   ],
   "source": [
    "import json\n",
    "\n",
    "movies_processed[\"genres\"] = movies[\"genres\"].apply(json.loads)\n",
    "movies_processed[\"genre_names\"] = movies_processed[\"genres\"].apply(lambda gs: sorted(g[\"name\"] for g in gs))\n",
    "movies_processed.drop(columns=[\"genres\"], inplace=True)\n",
    "\n",
    "movies_processed.head(1)"
   ]
  },
  {
   "cell_type": "code",
   "execution_count": 55,
   "id": "ba919e31",
   "metadata": {},
   "outputs": [
    {
     "data": {
      "text/plain": [
       "['Action',\n",
       " 'Adventure',\n",
       " 'Animation',\n",
       " 'Comedy',\n",
       " 'Crime',\n",
       " 'Documentary',\n",
       " 'Drama',\n",
       " 'Family',\n",
       " 'Fantasy',\n",
       " 'Foreign',\n",
       " 'History',\n",
       " 'Horror',\n",
       " 'Music',\n",
       " 'Mystery',\n",
       " 'Romance',\n",
       " 'Science Fiction',\n",
       " 'TV Movie',\n",
       " 'Thriller',\n",
       " 'War',\n",
       " 'Western']"
      ]
     },
     "execution_count": 55,
     "metadata": {},
     "output_type": "execute_result"
    }
   ],
   "source": [
    "all_genres = sorted({name for names in movies_processed[\"genre_names\"] for name in names})\n",
    "all_genres"
   ]
  },
  {
   "cell_type": "code",
   "execution_count": 56,
   "id": "0bcc374e",
   "metadata": {},
   "outputs": [
    {
     "name": "stdout",
     "output_type": "stream",
     "text": [
      "<class 'pandas.core.frame.DataFrame'>\n",
      "RangeIndex: 4803 entries, 0 to 4802\n",
      "Data columns (total 7 columns):\n",
      " #   Column        Non-Null Count  Dtype  \n",
      "---  ------        --------------  -----  \n",
      " 0   tmdb_id       4803 non-null   int64  \n",
      " 1   overview      4800 non-null   object \n",
      " 2   release_date  4802 non-null   object \n",
      " 3   runtime       4801 non-null   float64\n",
      " 4   title         4803 non-null   object \n",
      " 5   poster_url    4803 non-null   object \n",
      " 6   genre_names   4803 non-null   object \n",
      "dtypes: float64(1), int64(1), object(5)\n",
      "memory usage: 262.8+ KB\n"
     ]
    }
   ],
   "source": [
    "movies_processed.info()"
   ]
  },
  {
   "cell_type": "code",
   "execution_count": null,
   "id": "e40aa7b6",
   "metadata": {},
   "outputs": [
    {
     "data": {
      "text/plain": [
       "[(0, 'Action'),\n",
       " (1, 'Adventure'),\n",
       " (2, 'Animation'),\n",
       " (3, 'Comedy'),\n",
       " (4, 'Crime'),\n",
       " (5, 'Documentary'),\n",
       " (6, 'Drama'),\n",
       " (7, 'Family'),\n",
       " (8, 'Fantasy'),\n",
       " (9, 'Foreign'),\n",
       " (10, 'History'),\n",
       " (11, 'Horror'),\n",
       " (12, 'Music'),\n",
       " (13, 'Mystery'),\n",
       " (14, 'Romance'),\n",
       " (15, 'Science Fiction'),\n",
       " (16, 'TV Movie'),\n",
       " (17, 'Thriller'),\n",
       " (18, 'War'),\n",
       " (19, 'Western')]"
      ]
     },
     "execution_count": 65,
     "metadata": {},
     "output_type": "execute_result"
    }
   ],
   "source": [
    "genres_with_custom_ids = []\n",
    "\n",
    "for i, genre in enumerate(all_genres):\n",
    "    genres_with_custom_ids.append((i, genre))\n",
    "\n",
    "genres_with_custom_ids"
   ]
  },
  {
   "cell_type": "code",
   "execution_count": 73,
   "id": "b6e59500",
   "metadata": {},
   "outputs": [
    {
     "data": {
      "text/html": [
       "<div>\n",
       "<style scoped>\n",
       "    .dataframe tbody tr th:only-of-type {\n",
       "        vertical-align: middle;\n",
       "    }\n",
       "\n",
       "    .dataframe tbody tr th {\n",
       "        vertical-align: top;\n",
       "    }\n",
       "\n",
       "    .dataframe thead th {\n",
       "        text-align: right;\n",
       "    }\n",
       "</style>\n",
       "<table border=\"1\" class=\"dataframe\">\n",
       "  <thead>\n",
       "    <tr style=\"text-align: right;\">\n",
       "      <th></th>\n",
       "      <th>tmdb_id</th>\n",
       "      <th>overview</th>\n",
       "      <th>release_date</th>\n",
       "      <th>runtime</th>\n",
       "      <th>title</th>\n",
       "      <th>poster_url</th>\n",
       "      <th>genre_ids</th>\n",
       "    </tr>\n",
       "  </thead>\n",
       "  <tbody>\n",
       "    <tr>\n",
       "      <th>0</th>\n",
       "      <td>19995</td>\n",
       "      <td>In the 22nd century, a paraplegic Marine is di...</td>\n",
       "      <td>2009-12-10</td>\n",
       "      <td>162.0</td>\n",
       "      <td>Avatar</td>\n",
       "      <td>https://image.tmdb.org/t/p/w500/gKY6q7SjCkAU6F...</td>\n",
       "      <td>[0, 1, 8, 15]</td>\n",
       "    </tr>\n",
       "  </tbody>\n",
       "</table>\n",
       "</div>"
      ],
      "text/plain": [
       "   tmdb_id                                           overview release_date  \\\n",
       "0    19995  In the 22nd century, a paraplegic Marine is di...   2009-12-10   \n",
       "\n",
       "   runtime   title                                         poster_url  \\\n",
       "0    162.0  Avatar  https://image.tmdb.org/t/p/w500/gKY6q7SjCkAU6F...   \n",
       "\n",
       "       genre_ids  \n",
       "0  [0, 1, 8, 15]  "
      ]
     },
     "execution_count": 73,
     "metadata": {},
     "output_type": "execute_result"
    }
   ],
   "source": [
    "genre_id_map = {name: gid for gid, name in genres_with_custom_ids}\n",
    "\n",
    "movies_processed[\"genre_ids\"] = movies_processed[\"genre_names\"].apply(\n",
    "    lambda names: [genre_id_map[name] for name in names]\n",
    ")\n",
    "\n",
    "movies_processed.drop(columns=[\"genre_names\"], inplace=True)\n",
    "\n",
    "movies_processed.head(1)"
   ]
  },
  {
   "cell_type": "code",
   "execution_count": null,
   "id": "8d9c869b",
   "metadata": {},
   "outputs": [],
   "source": [
    "output_path = Path.cwd() / \"processed\" / \"tmdb_movies_clean.csv\"\n",
    "output_path.parent.mkdir(parents=True, exist_ok=True)\n",
    "movies_processed.to_csv(output_path, index=False)"
   ]
  },
  {
   "cell_type": "code",
   "execution_count": 77,
   "id": "61f6ee17",
   "metadata": {},
   "outputs": [],
   "source": [
    "processed_dir = Path.cwd() / \"processed\"\n",
    "processed_dir.mkdir(exist_ok=True)\n",
    "\n",
    "genres_df = pd.DataFrame(genres_with_custom_ids, columns=[\"id\", \"name\"])\n",
    "genres_df.to_csv(processed_dir / \"tmdb_genres_clean.csv\", index=False)"
   ]
  }
 ],
 "metadata": {
  "kernelspec": {
   "display_name": "Python 3",
   "language": "python",
   "name": "python3"
  },
  "language_info": {
   "codemirror_mode": {
    "name": "ipython",
    "version": 3
   },
   "file_extension": ".py",
   "mimetype": "text/x-python",
   "name": "python",
   "nbconvert_exporter": "python",
   "pygments_lexer": "ipython3",
   "version": "3.12.8"
  }
 },
 "nbformat": 4,
 "nbformat_minor": 5
}
